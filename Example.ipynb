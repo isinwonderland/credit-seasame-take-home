{
  "metadata": {
    "dataExplorerConfig": {},
    "bento_stylesheets": {
      "bento/extensions/flow/main.css": true,
      "bento/extensions/kernel_selector/main.css": true,
      "bento/extensions/kernel_ui/main.css": true,
      "bento/extensions/new_kernel/main.css": true,
      "bento/extensions/system_usage/main.css": true,
      "bento/extensions/theme/main.css": true
    },
    "kernelspec": {
      "display_name": "rl_sales_analytics",
      "language": "python",
      "name": "bento_kernel_rl_sales_analytics",
      "cinder_runtime": true,
      "ipyflow_runtime": false,
      "metadata": {
        "kernel_name": "bento_kernel_rl_sales_analytics",
        "nightly_builds": true,
        "fbpkg_supported": true,
        "cinder_runtime": true,
        "ipyflow_runtime": false,
        "is_prebuilt": true
      }
    },
    "language_info": {
      "codemirror_mode": {
        "name": "ipython",
        "version": 3
      },
      "file_extension": ".py",
      "mimetype": "text/x-python",
      "name": "python",
      "nbconvert_exporter": "python",
      "pygments_lexer": "ipython3"
    },
    "last_server_session_id": "e6018dac-6076-4df3-90ab-2ad37eb8837a",
    "last_kernel_id": "b44f0340-07ec-4906-8a2f-9d187d49acc5",
    "last_base_url": "https://bento.edge.x2p.facebook.net/",
    "last_msg_id": "2ed83096-9c8cd5a84ad701f5d681a2e6_1160",
    "outputWidgetContext": {}
  },
  "nbformat": 4,
  "nbformat_minor": 2,
  "cells": [
    {
      "cell_type": "markdown",
      "metadata": {
        "originalKey": "02a1fc7d-4a41-4919-b963-52872e408a8a",
        "showInput": false,
        "customInput": null
      },
      "source": [
        "\n",
        "<span style=\"color:red;font-size: 20px;\">Import the data and libraries</span>\n",
        ""
      ]
    },
    {
      "cell_type": "code",
      "metadata": {
        "originalKey": "a17847b5-dc1d-4c26-8c38-ad5afdb58222",
        "showInput": true,
        "customInput": null,
        "collapsed": false,
        "requestMsgId": "c4dbbb30-b383-4f0c-a905-4d47ea448652",
        "executionStartTime": 1684547668129,
        "executionStopTime": 1684547668140
      },
      "source": [
        "import pandas as pd\n",
        "import numpy as np\n",
        "import matplotlib.pyplot as plt\n",
        "from sklearn.model_selection import train_test_split\n",
        "# from imblearn.over_sampling import SMOTE\n",
        "from sklearn.ensemble import RandomForestClassifier\n",
        "from statsmodels.stats.outliers_influence import variance_inflation_factor\n",
        "from sklearn.linear_model import LogisticRegression\n",
        "from sklearn.ensemble import RandomForestClassifier\n",
        "from xgboost import XGBClassifier\n",
        "from sklearn.metrics import accuracy_score, f1_score, confusion_matrix,make_scorer, recall_score\n",
        "from sklearn.model_selection import GridSearchCV"
      ],
      "execution_count": 18,
      "outputs": []
    },
    {
      "cell_type": "code",
      "metadata": {
        "originalKey": "d4b722c8-297d-467e-a1a2-c4d58dfe70b9",
        "showInput": true,
        "customInput": null,
        "collapsed": false,
        "requestMsgId": "a75f9389-00d9-4b8a-a105-85c566a47ece",
        "executionStartTime": 1684546626225,
        "executionStopTime": 1684546626659
      },
      "source": [
        "df = pd.read_csv(\"/home/cw2378/persistent/private-90d/default data.csv\",header = 1)\n",
        "df.head()"
      ],
      "execution_count": 6,
      "outputs": [
        {
          "output_type": "execute_result",
          "data": {
            "text/plain": "   ID  LIMIT_BAL  SEX  ...  PAY_AMT5  PAY_AMT6  default payment next month\n0   1      20000    2  ...         0         0                           1\n1   2     120000    2  ...         0      2000                           1\n2   3      90000    2  ...      1000      5000                           0\n3   4      50000    2  ...      1069      1000                           0\n4   5      50000    1  ...       689       679                           0\n\n[5 rows x 25 columns]",
            "text/html": "<div>\n<style scoped>\n    .dataframe tbody tr th:only-of-type {\n        vertical-align: middle;\n    }\n\n    .dataframe tbody tr th {\n        vertical-align: top;\n    }\n\n    .dataframe thead th {\n        text-align: right;\n    }\n</style>\n<table border=\"1\" class=\"dataframe\">\n  <thead>\n    <tr style=\"text-align: right;\">\n      <th></th>\n      <th>ID</th>\n      <th>LIMIT_BAL</th>\n      <th>SEX</th>\n      <th>EDUCATION</th>\n      <th>MARRIAGE</th>\n      <th>AGE</th>\n      <th>PAY_0</th>\n      <th>PAY_2</th>\n      <th>PAY_3</th>\n      <th>PAY_4</th>\n      <th>PAY_5</th>\n      <th>PAY_6</th>\n      <th>BILL_AMT1</th>\n      <th>BILL_AMT2</th>\n      <th>BILL_AMT3</th>\n      <th>BILL_AMT4</th>\n      <th>BILL_AMT5</th>\n      <th>BILL_AMT6</th>\n      <th>PAY_AMT1</th>\n      <th>PAY_AMT2</th>\n      <th>PAY_AMT3</th>\n      <th>PAY_AMT4</th>\n      <th>PAY_AMT5</th>\n      <th>PAY_AMT6</th>\n      <th>default payment next month</th>\n    </tr>\n  </thead>\n  <tbody>\n    <tr>\n      <th>0</th>\n      <td>1</td>\n      <td>20000</td>\n      <td>2</td>\n      <td>2</td>\n      <td>1</td>\n      <td>24</td>\n      <td>2</td>\n      <td>2</td>\n      <td>-1</td>\n      <td>-1</td>\n      <td>-2</td>\n      <td>-2</td>\n      <td>3913</td>\n      <td>3102</td>\n      <td>689</td>\n      <td>0</td>\n      <td>0</td>\n      <td>0</td>\n      <td>0</td>\n      <td>689</td>\n      <td>0</td>\n      <td>0</td>\n      <td>0</td>\n      <td>0</td>\n      <td>1</td>\n    </tr>\n    <tr>\n      <th>1</th>\n      <td>2</td>\n      <td>120000</td>\n      <td>2</td>\n      <td>2</td>\n      <td>2</td>\n      <td>26</td>\n      <td>-1</td>\n      <td>2</td>\n      <td>0</td>\n      <td>0</td>\n      <td>0</td>\n      <td>2</td>\n      <td>2682</td>\n      <td>1725</td>\n      <td>2682</td>\n      <td>3272</td>\n      <td>3455</td>\n      <td>3261</td>\n      <td>0</td>\n      <td>1000</td>\n      <td>1000</td>\n      <td>1000</td>\n      <td>0</td>\n      <td>2000</td>\n      <td>1</td>\n    </tr>\n    <tr>\n      <th>2</th>\n      <td>3</td>\n      <td>90000</td>\n      <td>2</td>\n      <td>2</td>\n      <td>2</td>\n      <td>34</td>\n      <td>0</td>\n      <td>0</td>\n      <td>0</td>\n      <td>0</td>\n      <td>0</td>\n      <td>0</td>\n      <td>29239</td>\n      <td>14027</td>\n      <td>13559</td>\n      <td>14331</td>\n      <td>14948</td>\n      <td>15549</td>\n      <td>1518</td>\n      <td>1500</td>\n      <td>1000</td>\n      <td>1000</td>\n      <td>1000</td>\n      <td>5000</td>\n      <td>0</td>\n    </tr>\n    <tr>\n      <th>3</th>\n      <td>4</td>\n      <td>50000</td>\n      <td>2</td>\n      <td>2</td>\n      <td>1</td>\n      <td>37</td>\n      <td>0</td>\n      <td>0</td>\n      <td>0</td>\n      <td>0</td>\n      <td>0</td>\n      <td>0</td>\n      <td>46990</td>\n      <td>48233</td>\n      <td>49291</td>\n      <td>28314</td>\n      <td>28959</td>\n      <td>29547</td>\n      <td>2000</td>\n      <td>2019</td>\n      <td>1200</td>\n      <td>1100</td>\n      <td>1069</td>\n      <td>1000</td>\n      <td>0</td>\n    </tr>\n    <tr>\n      <th>4</th>\n      <td>5</td>\n      <td>50000</td>\n      <td>1</td>\n      <td>2</td>\n      <td>1</td>\n      <td>57</td>\n      <td>-1</td>\n      <td>0</td>\n      <td>-1</td>\n      <td>0</td>\n      <td>0</td>\n      <td>0</td>\n      <td>8617</td>\n      <td>5670</td>\n      <td>35835</td>\n      <td>20940</td>\n      <td>19146</td>\n      <td>19131</td>\n      <td>2000</td>\n      <td>36681</td>\n      <td>10000</td>\n      <td>9000</td>\n      <td>689</td>\n      <td>679</td>\n      <td>0</td>\n    </tr>\n  </tbody>\n</table>\n</div>",
            "application/vnd.dataresource+json": {
              "schema": {
                "fields": [
                  {
                    "name": "index",
                    "type": "integer"
                  },
                  {
                    "name": "ID",
                    "type": "integer"
                  },
                  {
                    "name": "LIMIT_BAL",
                    "type": "integer"
                  },
                  {
                    "name": "SEX",
                    "type": "integer"
                  },
                  {
                    "name": "EDUCATION",
                    "type": "integer"
                  },
                  {
                    "name": "MARRIAGE",
                    "type": "integer"
                  },
                  {
                    "name": "AGE",
                    "type": "integer"
                  },
                  {
                    "name": "PAY_0",
                    "type": "integer"
                  },
                  {
                    "name": "PAY_2",
                    "type": "integer"
                  },
                  {
                    "name": "PAY_3",
                    "type": "integer"
                  },
                  {
                    "name": "PAY_4",
                    "type": "integer"
                  },
                  {
                    "name": "PAY_5",
                    "type": "integer"
                  },
                  {
                    "name": "PAY_6",
                    "type": "integer"
                  },
                  {
                    "name": "BILL_AMT1",
                    "type": "integer"
                  },
                  {
                    "name": "BILL_AMT2",
                    "type": "integer"
                  },
                  {
                    "name": "BILL_AMT3",
                    "type": "integer"
                  },
                  {
                    "name": "BILL_AMT4",
                    "type": "integer"
                  },
                  {
                    "name": "BILL_AMT5",
                    "type": "integer"
                  },
                  {
                    "name": "BILL_AMT6",
                    "type": "integer"
                  },
                  {
                    "name": "PAY_AMT1",
                    "type": "integer"
                  },
                  {
                    "name": "PAY_AMT2",
                    "type": "integer"
                  },
                  {
                    "name": "PAY_AMT3",
                    "type": "integer"
                  },
                  {
                    "name": "PAY_AMT4",
                    "type": "integer"
                  },
                  {
                    "name": "PAY_AMT5",
                    "type": "integer"
                  },
                  {
                    "name": "PAY_AMT6",
                    "type": "integer"
                  },
                  {
                    "name": "default payment next month",
                    "type": "integer"
                  }
                ],
                "primaryKey": [
                  "index"
                ],
                "pandas_version": "0.20.0"
              },
              "data": [
                {
                  "index": 0,
                  "ID": 1,
                  "LIMIT_BAL": 20000,
                  "SEX": 2,
                  "EDUCATION": 2,
                  "MARRIAGE": 1,
                  "AGE": 24,
                  "PAY_0": 2,
                  "PAY_2": 2,
                  "PAY_3": -1,
                  "PAY_4": -1,
                  "PAY_5": -2,
                  "PAY_6": -2,
                  "BILL_AMT1": 3913,
                  "BILL_AMT2": 3102,
                  "BILL_AMT3": 689,
                  "BILL_AMT4": 0,
                  "BILL_AMT5": 0,
                  "BILL_AMT6": 0,
                  "PAY_AMT1": 0,
                  "PAY_AMT2": 689,
                  "PAY_AMT3": 0,
                  "PAY_AMT4": 0,
                  "PAY_AMT5": 0,
                  "PAY_AMT6": 0,
                  "default payment next month": 1
                },
                {
                  "index": 1,
                  "ID": 2,
                  "LIMIT_BAL": 120000,
                  "SEX": 2,
                  "EDUCATION": 2,
                  "MARRIAGE": 2,
                  "AGE": 26,
                  "PAY_0": -1,
                  "PAY_2": 2,
                  "PAY_3": 0,
                  "PAY_4": 0,
                  "PAY_5": 0,
                  "PAY_6": 2,
                  "BILL_AMT1": 2682,
                  "BILL_AMT2": 1725,
                  "BILL_AMT3": 2682,
                  "BILL_AMT4": 3272,
                  "BILL_AMT5": 3455,
                  "BILL_AMT6": 3261,
                  "PAY_AMT1": 0,
                  "PAY_AMT2": 1000,
                  "PAY_AMT3": 1000,
                  "PAY_AMT4": 1000,
                  "PAY_AMT5": 0,
                  "PAY_AMT6": 2000,
                  "default payment next month": 1
                },
                {
                  "index": 2,
                  "ID": 3,
                  "LIMIT_BAL": 90000,
                  "SEX": 2,
                  "EDUCATION": 2,
                  "MARRIAGE": 2,
                  "AGE": 34,
                  "PAY_0": 0,
                  "PAY_2": 0,
                  "PAY_3": 0,
                  "PAY_4": 0,
                  "PAY_5": 0,
                  "PAY_6": 0,
                  "BILL_AMT1": 29239,
                  "BILL_AMT2": 14027,
                  "BILL_AMT3": 13559,
                  "BILL_AMT4": 14331,
                  "BILL_AMT5": 14948,
                  "BILL_AMT6": 15549,
                  "PAY_AMT1": 1518,
                  "PAY_AMT2": 1500,
                  "PAY_AMT3": 1000,
                  "PAY_AMT4": 1000,
                  "PAY_AMT5": 1000,
                  "PAY_AMT6": 5000,
                  "default payment next month": 0
                },
                {
                  "index": 3,
                  "ID": 4,
                  "LIMIT_BAL": 50000,
                  "SEX": 2,
                  "EDUCATION": 2,
                  "MARRIAGE": 1,
                  "AGE": 37,
                  "PAY_0": 0,
                  "PAY_2": 0,
                  "PAY_3": 0,
                  "PAY_4": 0,
                  "PAY_5": 0,
                  "PAY_6": 0,
                  "BILL_AMT1": 46990,
                  "BILL_AMT2": 48233,
                  "BILL_AMT3": 49291,
                  "BILL_AMT4": 28314,
                  "BILL_AMT5": 28959,
                  "BILL_AMT6": 29547,
                  "PAY_AMT1": 2000,
                  "PAY_AMT2": 2019,
                  "PAY_AMT3": 1200,
                  "PAY_AMT4": 1100,
                  "PAY_AMT5": 1069,
                  "PAY_AMT6": 1000,
                  "default payment next month": 0
                },
                {
                  "index": 4,
                  "ID": 5,
                  "LIMIT_BAL": 50000,
                  "SEX": 1,
                  "EDUCATION": 2,
                  "MARRIAGE": 1,
                  "AGE": 57,
                  "PAY_0": -1,
                  "PAY_2": 0,
                  "PAY_3": -1,
                  "PAY_4": 0,
                  "PAY_5": 0,
                  "PAY_6": 0,
                  "BILL_AMT1": 8617,
                  "BILL_AMT2": 5670,
                  "BILL_AMT3": 35835,
                  "BILL_AMT4": 20940,
                  "BILL_AMT5": 19146,
                  "BILL_AMT6": 19131,
                  "PAY_AMT1": 2000,
                  "PAY_AMT2": 36681,
                  "PAY_AMT3": 10000,
                  "PAY_AMT4": 9000,
                  "PAY_AMT5": 689,
                  "PAY_AMT6": 679,
                  "default payment next month": 0
                }
              ]
            }
          },
          "metadata": {
            "bento_obj_id": "140178621382768"
          },
          "execution_count": 6
        }
      ]
    },
    {
      "cell_type": "code",
      "metadata": {
        "originalKey": "3d4fcb41-3c82-44e5-aafd-4999ebe4ccd5",
        "showInput": true,
        "customInput": null,
        "collapsed": false,
        "requestMsgId": "50c37538-2225-4436-96ce-537a7bf867e5",
        "executionStartTime": 1684546629303,
        "executionStopTime": 1684546629309
      },
      "source": [
        "df.columns"
      ],
      "execution_count": 7,
      "outputs": [
        {
          "output_type": "execute_result",
          "data": {
            "text/plain": "Index(['ID', 'LIMIT_BAL', 'SEX', 'EDUCATION', 'MARRIAGE', 'AGE', 'PAY_0',\n       'PAY_2', 'PAY_3', 'PAY_4', 'PAY_5', 'PAY_6', 'BILL_AMT1', 'BILL_AMT2',\n       'BILL_AMT3', 'BILL_AMT4', 'BILL_AMT5', 'BILL_AMT6', 'PAY_AMT1',\n       'PAY_AMT2', 'PAY_AMT3', 'PAY_AMT4', 'PAY_AMT5', 'PAY_AMT6',\n       'default payment next month'],\n      dtype='object')"
          },
          "metadata": {
            "bento_obj_id": "140178621382864"
          },
          "execution_count": 7
        }
      ]
    },
    {
      "cell_type": "markdown",
      "metadata": {
        "originalKey": "542ccc8f-13fe-4a41-9f00-2f546b1c8fd7",
        "showInput": false,
        "customInput": null
      },
      "source": [
        "\n",
        "<span style=\"color:red;font-size: 20px;\">Data Cleanning and Processing</span>\n",
        "\n",
        "Summary: 1. Check if any missing values: no missing data found\n",
        "         2. Check extreme or unexpected values and impute those: \n",
        "        A. Education, Marriage: found data other than data dictionary-> impute using 'others' category\n",
        "        B. Pay: found 0 and -2 not in data dictionary\n",
        "[Assumptions] -2 is wrongly input data -> impute with median\n",
        "              There are a large part of 0 exists. It's not \"no payment due/ already paid in full\" upon checking (only a small portion of 0 are found to have similiar payment and billing amount of previous month)\n",
        "\n",
        "        C. Sex, Age, Amount of given credit, Bill Amount,Payment Amount: No unexpected values found\n",
        "        3. Rename columns for easier understanding:\n",
        "        PAY_0 -> PAY_1 to match bills and PAY_AMT columns each month respectively"
      ]
    },
    {
      "cell_type": "code",
      "metadata": {
        "originalKey": "7d346bc2-2ad5-4b83-838f-ed15fc824ae7",
        "showInput": true,
        "customInput": null,
        "collapsed": false,
        "requestMsgId": "dacf5978-77e1-4cac-947f-f00908540def",
        "executionStartTime": 1684546632235,
        "executionStopTime": 1684546632250
      },
      "source": [
        "#1. check if any missing values \n",
        "df.isnull().sum()\n",
        "#[Result] No missing value is found in the data"
      ],
      "execution_count": 8,
      "outputs": [
        {
          "output_type": "execute_result",
          "data": {
            "text/plain": "ID                            0\nLIMIT_BAL                     0\nSEX                           0\nEDUCATION                     0\nMARRIAGE                      0\nAGE                           0\nPAY_0                         0\nPAY_2                         0\nPAY_3                         0\nPAY_4                         0\nPAY_5                         0\nPAY_6                         0\nBILL_AMT1                     0\nBILL_AMT2                     0\nBILL_AMT3                     0\nBILL_AMT4                     0\nBILL_AMT5                     0\nBILL_AMT6                     0\nPAY_AMT1                      0\nPAY_AMT2                      0\nPAY_AMT3                      0\nPAY_AMT4                      0\nPAY_AMT5                      0\nPAY_AMT6                      0\ndefault payment next month    0\ndtype: int64",
            "application/vnd.dataresource+json": {
              "schema": {
                "fields": [
                  {
                    "name": "index",
                    "type": "string"
                  },
                  {
                    "name": "values",
                    "type": "integer"
                  }
                ],
                "primaryKey": [
                  "index"
                ],
                "pandas_version": "0.20.0"
              },
              "data": [
                {
                  "index": "ID",
                  "values": 0
                },
                {
                  "index": "LIMIT_BAL",
                  "values": 0
                },
                {
                  "index": "SEX",
                  "values": 0
                },
                {
                  "index": "EDUCATION",
                  "values": 0
                },
                {
                  "index": "MARRIAGE",
                  "values": 0
                },
                {
                  "index": "AGE",
                  "values": 0
                },
                {
                  "index": "PAY_0",
                  "values": 0
                },
                {
                  "index": "PAY_2",
                  "values": 0
                },
                {
                  "index": "PAY_3",
                  "values": 0
                },
                {
                  "index": "PAY_4",
                  "values": 0
                },
                {
                  "index": "PAY_5",
                  "values": 0
                },
                {
                  "index": "PAY_6",
                  "values": 0
                },
                {
                  "index": "BILL_AMT1",
                  "values": 0
                },
                {
                  "index": "BILL_AMT2",
                  "values": 0
                },
                {
                  "index": "BILL_AMT3",
                  "values": 0
                },
                {
                  "index": "BILL_AMT4",
                  "values": 0
                },
                {
                  "index": "BILL_AMT5",
                  "values": 0
                },
                {
                  "index": "BILL_AMT6",
                  "values": 0
                },
                {
                  "index": "PAY_AMT1",
                  "values": 0
                },
                {
                  "index": "PAY_AMT2",
                  "values": 0
                },
                {
                  "index": "PAY_AMT3",
                  "values": 0
                },
                {
                  "index": "PAY_AMT4",
                  "values": 0
                },
                {
                  "index": "PAY_AMT5",
                  "values": 0
                },
                {
                  "index": "PAY_AMT6",
                  "values": 0
                },
                {
                  "index": "default payment next month",
                  "values": 0
                }
              ]
            }
          },
          "metadata": {
            "bento_obj_id": "140178621914560"
          },
          "execution_count": 8
        }
      ]
    },
    {
      "cell_type": "code",
      "metadata": {
        "originalKey": "9c0b3ae0-11c0-4a6b-99f4-78b0acd8ca2b",
        "showInput": true,
        "customInput": null,
        "collapsed": false,
        "requestMsgId": "daabac84-11e2-4313-9efc-9d5a8d3a13d8",
        "executionStartTime": 1684546634749,
        "executionStopTime": 1684546634853
      },
      "source": [
        "#2.Check extreme values or any wrong/unexpected data\n",
        "df1 = df.copy()\n",
        "# Check for any values of 'SEX' that are not 1 or 2\n",
        "unexpected_sex = df[~df['SEX'].isin([1, 2])]\n",
        "# print('Unexpected values for SEX:', unexpected_sex)\n",
        "#[Result]: No values other than 1 and 2 found\n",
        "\n",
        "# Check for any values of 'EDUCATION' that are not 1, 2, 3, or 4\n",
        "unexpected_education = df[~df['EDUCATION'].isin([1, 2, 3, 4])]\n",
        "# print('Unexpected values for EDUCATION:', unexpected_education['EDUCATION'])\n",
        "df1[~df1['EDUCATION'].isin([1, 2, 3, 4])]['EDUCATION'] = 4\n",
        "#[Result]: Unexpected values found (5,6) -> impute using 4 ('Others')\n",
        "\n",
        "# Check for any values of 'MARRIAGE' that are not 1, 2, or 3\n",
        "unexpected_marriage = df[~df['MARRIAGE'].isin([1, 2, 3])]\n",
        "# print('Unexpected values for MARRIAGE:', unexpected_marriage['MARRIAGE'])\n",
        "df1[~df1['MARRIAGE'].isin([1, 2, 3])]['MARRIAGE'] = 3\n",
        "#[Result]: Unexpected values found (0 -> impute using 3 ('Others')\n",
        "\n",
        "# Check for any values of 'PAY_1' to 'PAY_6' that are not from -1 to 9, excluding 0 \n",
        "df1 = df1.rename(columns={'PAY_0': 'PAY_1'}) #rename to ensure consistency in months of all pay status, bill amount and pay amount \n",
        "\n",
        "for i in range(1, 7):  \n",
        "    col = 'PAY_' + str(i)\n",
        "    valid_values = list(range(-1, 10))\n",
        "    valid_values.remove(0)\n",
        "    unexpected_pay = df1[~df1[col].isin(valid_values)][col]\n",
        "    # print(f'Unexpected values for {col}:', unexpected_pay.unique(),)\n",
        "    # print(f'Unexpected values count for {col}:', unexpected_pay.count(),)\n",
        "#[Result]: Found large amount of 0 and some -2 in the pay column which are not described by attributes info.\n",
        "#[Assumptions]: -2 is wrongly input data and will be imputed by median.\n",
        "for i in range(1, 7): \n",
        "    pay_col = 'PAY_' + str(i)\n",
        "    median = df1[df1[pay_col] != -2][pay_col].median()\n",
        "    df1.loc[df1[pay_col] == -2, pay_col] = median\n",
        "#[Assumptions]: 0 may be no payment needed at the due this month, but not true upon checking (see appendix 1)Given the large amount, I treat it as a sepearte category. \n",
        "\n",
        "# Check for any negative values in 'LIMIT_BAL', 'AGE', 'BILL_AMT1', 'BILL_AMT2', etc.\n",
        "for col in ['LIMIT_BAL', 'AGE', 'BILL_AMT1', 'BILL_AMT2', 'BILL_AMT3', 'BILL_AMT4', 'BILL_AMT5', 'BILL_AMT6', 'PAY_AMT1', 'PAY_AMT2', 'PAY_AMT3', 'PAY_AMT4', 'PAY_AMT5', 'PAY_AMT6']:\n",
        "    negative_values = df1[df1[col] < 0]\n",
        "    # print(f'Negative values for {col}:', negative_values)\n",
        "#[Result]: No strange value found"
      ],
      "execution_count": 9,
      "outputs": [
        {
          "output_type": "stream",
          "name": "stderr",
          "text": [
            "<ipython-input-9-f46f39b78c13>:11: SettingWithCopyWarning:\n\n\nA value is trying to be set on a copy of a slice from a DataFrame.\nTry using .loc[row_indexer,col_indexer] = value instead\n\nSee the caveats in the documentation: https://pandas.pydata.org/pandas-docs/stable/user_guide/indexing.html#returning-a-view-versus-a-copy\n\n<ipython-input-9-f46f39b78c13>:17: SettingWithCopyWarning:\n\n\nA value is trying to be set on a copy of a slice from a DataFrame.\nTry using .loc[row_indexer,col_indexer] = value instead\n\nSee the caveats in the documentation: https://pandas.pydata.org/pandas-docs/stable/user_guide/indexing.html#returning-a-view-versus-a-copy\n\n"
          ]
        }
      ]
    },
    {
      "cell_type": "markdown",
      "metadata": {
        "originalKey": "c8212de1-6114-4131-a991-f852dabad9b7",
        "showInput": false,
        "customInput": null
      },
      "source": [
        "<span style=\"color:red;font-size: 20px;\">EDA</span>\n",
        "\n",
        "Summary: \n",
        "1. Descriptive statistics: n =30000. See details in table below.\n",
        "A. Demographics info is mostly normally distributed, with age slightly skewed towards young (30s) and slightly more females(1 vs 1.5)\n",
        "B. balance limit, payment amount and bill amount are mostly left skewed\n",
        "c. default payment next month(predicting variable) is heavily skewed (median is 0) -> undersampling/oversampling may be needed here to deal with the unbalaced data\n",
        "\n",
        "2. correlations of independent variables\n",
        "Limit Balance, pay status and payment amount are most correlated with our predicting variable- default payment next month (r>0.05). Multicollearity is also checked using VIF. "
      ]
    },
    {
      "cell_type": "code",
      "metadata": {
        "originalKey": "9a7111da-8b8e-4e2d-9522-f83d58dfe9f2",
        "showInput": true,
        "customInput": null,
        "collapsed": false,
        "requestMsgId": "6e23b4be-4501-4e61-80c4-7f0ce35c4c25",
        "executionStartTime": 1684546639300,
        "executionStopTime": 1684546643292
      },
      "source": [
        "# descriptive statistics\n",
        "print(df1.describe())\n",
        "# Plot histograms for each variable\n",
        "# df1.drop('ID', axis=1, inplace=True) #No need to plot ID\n",
        "df1.hist(figsize=(20, 20))\n",
        "# plt.tight_layout()  \n",
        "plt.show()\n",
        "\n",
        "# Compute pairwise correlation of columns, excluding NA/null values\n",
        "corrMatrix = df1.corr()\n",
        "print(corrMatrix)"
      ],
      "execution_count": 10,
      "outputs": [
        {
          "output_type": "stream",
          "name": "stdout",
          "text": [
            "                 ID       LIMIT_BAL  ...       PAY_AMT6  default payment next month\ncount  30000.000000    30000.000000  ...   30000.000000                30000.000000\nmean   15000.500000   167484.322667  ...    5215.502567                    0.221200\nstd     8660.398374   129747.661567  ...   17777.465775                    0.415062\nmin        1.000000    10000.000000  ...       0.000000                    0.000000\n25%     7500.750000    50000.000000  ...     117.750000                    0.000000\n50%    15000.500000   140000.000000  ...    1500.000000                    0.000000\n75%    22500.250000   240000.000000  ...    4000.000000                    0.000000\nmax    30000.000000  1000000.000000  ...  528666.000000                    1.000000\n\n[8 rows x 25 columns]\n"
          ]
        },
        {
          "output_type": "display_data",
          "data": {
            "text/plain": "<Figure size 1440x1440 with 25 Axes>",
            "image/png": "[encoded data removed]"
          },
          "metadata": {
            "bento_obj_id": "140178611654464",
            "needs_background": "light"
          }
        },
        {
          "output_type": "stream",
          "name": "stdout",
          "text": [
            "                                  ID  ...  default payment next month\nID                          1.000000  ...                   -0.013952\nLIMIT_BAL                   0.026179  ...                   -0.153520\nSEX                         0.018497  ...                   -0.039961\nEDUCATION                   0.039177  ...                    0.028006\nMARRIAGE                   -0.029079  ...                   -0.024339\nAGE                         0.018678  ...                    0.013890\nPAY_1                      -0.002802  ...                    0.349615\nPAY_2                       0.003701  ...                    0.302468\nPAY_3                      -0.003407  ...                    0.271348\nPAY_4                       0.016411  ...                    0.255820\nPAY_5                      -0.005361  ...                    0.247036\nPAY_6                      -0.002011  ...                    0.228762\nBILL_AMT1                   0.019389  ...                   -0.019644\nBILL_AMT2                   0.017982  ...                   -0.014193\nBILL_AMT3                   0.024354  ...                   -0.014076\nBILL_AMT4                   0.040351  ...                   -0.010156\nBILL_AMT5                   0.016705  ...                   -0.006760\nBILL_AMT6                   0.016730  ...                   -0.005372\nPAY_AMT1                    0.009742  ...                   -0.072929\nPAY_AMT2                    0.008406  ...                   -0.058579\nPAY_AMT3                    0.039151  ...                   -0.056250\nPAY_AMT4                    0.007793  ...                   -0.056827\nPAY_AMT5                    0.000652  ...                   -0.055124\nPAY_AMT6                    0.003000  ...                   -0.053183\ndefault payment next month -0.013952  ...                    1.000000\n\n[25 rows x 25 columns]\n"
          ]
        }
      ]
    },
    {
      "cell_type": "code",
      "metadata": {
        "originalKey": "2c7d5769-5793-4b45-a7a3-fee0f049c1cc",
        "showInput": true,
        "customInput": null,
        "collapsed": false,
        "requestMsgId": "9445a44b-1801-4c39-bb1a-d7883035594c",
        "executionStartTime": 1684546643327,
        "executionStopTime": 1684546643337
      },
      "source": [
        "# Get absolute value of correlation coefficient of each feature and the target\n",
        "target_corr = abs(corrMatrix['default payment next month'])\n",
        "print(target_corr)\n",
        "print(target_corr[target_corr > 0.05])\n",
        "# [Result]:  Limit Balance, pay status and payment amount are most correlated with our predicting variable- default payment next month (r>0.05)"
      ],
      "execution_count": 11,
      "outputs": [
        {
          "output_type": "stream",
          "name": "stdout",
          "text": [
            "ID                            0.013952\nLIMIT_BAL                     0.153520\nSEX                           0.039961\nEDUCATION                     0.028006\nMARRIAGE                      0.024339\nAGE                           0.013890\nPAY_1                         0.349615\nPAY_2                         0.302468\nPAY_3                         0.271348\nPAY_4                         0.255820\nPAY_5                         0.247036\nPAY_6                         0.228762\nBILL_AMT1                     0.019644\nBILL_AMT2                     0.014193\nBILL_AMT3                     0.014076\nBILL_AMT4                     0.010156\nBILL_AMT5                     0.006760\nBILL_AMT6                     0.005372\nPAY_AMT1                      0.072929\nPAY_AMT2                      0.058579\nPAY_AMT3                      0.056250\nPAY_AMT4                      0.056827\nPAY_AMT5                      0.055124\nPAY_AMT6                      0.053183\ndefault payment next month    1.000000\nName: default payment next month, dtype: float64\nLIMIT_BAL                     0.153520\nPAY_1                         0.349615\nPAY_2                         0.302468\nPAY_3                         0.271348\nPAY_4                         0.255820\nPAY_5                         0.247036\nPAY_6                         0.228762\nPAY_AMT1                      0.072929\nPAY_AMT2                      0.058579\nPAY_AMT3                      0.056250\nPAY_AMT4                      0.056827\nPAY_AMT5                      0.055124\nPAY_AMT6                      0.053183\ndefault payment next month    1.000000\nName: default payment next month, dtype: float64\n"
          ]
        }
      ]
    },
    {
      "cell_type": "markdown",
      "metadata": {
        "originalKey": "b1905f74-f295-4824-834e-3b17ef3f2e00",
        "showInput": false,
        "customInput": null
      },
      "source": [
        "\n",
        "<span style=\"color:red;font-size: 20px;\">Feature Engineering</span>\n",
        "\n",
        "Summary: \n",
        "1. Creating new features for easier interpretation: payment/bill trend in past 6 months, average payment/bill amount, total delays in past 6 months, the longest time delayed\n",
        "2. feature selection: check VIF and correlation with lables again with the newly generated features. \n",
        "Limit Balance, pay status and payment amount, pay trend, delay most and total delays are most correlated with our predicting variable- default payment next month (r>0.05)\n",
        "\n",
        " \n",
        ""
      ]
    },
    {
      "cell_type": "code",
      "metadata": {
        "originalKey": "039a394c-8bfa-458f-82e1-c01c3de30d8a",
        "showInput": true,
        "customInput": null,
        "collapsed": false,
        "requestMsgId": "09cfa6e1-9c3d-4367-a996-13a3f223d30d",
        "executionStartTime": 1684546646007,
        "executionStopTime": 1684546651398
      },
      "source": [
        "#Creating new features for easier interpretation\n",
        "df1[\"pay_trend\"] = (\n",
        "    df1[[\"PAY_1\", \"PAY_2\", \"PAY_3\", \"PAY_4\", \"PAY_5\", \"PAY_6\"]].diff(axis=1).mean(axis=1)\n",
        ")\n",
        "df1[\"delay_most\"] = df1[[\"PAY_1\", \"PAY_2\", \"PAY_3\", \"PAY_4\", \"PAY_5\", \"PAY_6\"]].max(\n",
        "    axis=1\n",
        ")\n",
        "df1[\"total_delays\"] = df1[[\"PAY_1\", \"PAY_2\", \"PAY_3\", \"PAY_4\", \"PAY_5\", \"PAY_6\"]].apply(\n",
        "    lambda i: (i > -1).sum(), axis=1\n",
        ")\n",
        "df1[\"avg_bill\"] = df1[\n",
        "    [\"BILL_AMT1\", \"BILL_AMT2\", \"BILL_AMT3\", \"BILL_AMT4\", \"BILL_AMT5\", \"BILL_AMT6\"]\n",
        "].mean(axis=1)\n",
        "df1[\"bill_trend\"] = (\n",
        "    df1[[\"BILL_AMT1\", \"BILL_AMT2\", \"BILL_AMT3\", \"BILL_AMT4\", \"BILL_AMT5\", \"BILL_AMT6\"]]\n",
        "    .diff(axis=1)\n",
        "    .mean(axis=1)\n",
        ")\n",
        "df1[\"avg_payment\"] = df1[\n",
        "    [\"BILL_AMT1\", \"BILL_AMT2\", \"BILL_AMT3\", \"BILL_AMT4\", \"BILL_AMT5\", \"BILL_AMT6\"]\n",
        "].mean(axis=1)\n",
        "df1[\"avg_payment_ratio\"] = (\n",
        "    df1[\"PAY_1\"] + df1[\"PAY_2\"] + df1[\"PAY_3\"] + df1[\"PAY_4\"] + df1[\"PAY_5\"] + df1[\"PAY_6\"] \\\n",
        ") / (\n",
        "    df1[\"BILL_AMT1\"]\n",
        "    + df1[\"BILL_AMT2\"]\n",
        "    + df1[\"BILL_AMT3\"]\n",
        "    + df1[\"BILL_AMT4\"]\n",
        "    + df1[\"BILL_AMT5\"]\n",
        "    + df1[\"BILL_AMT6\"]\n",
        ")\n",
        "df1[\"avg_payment_ratio\"] = df1[\"avg_payment_ratio\"].replace([np.inf, -np.inf], np.nan).fillna(0)  #fill the inf and nan of average with 0"
      ],
      "execution_count": 12,
      "outputs": []
    },
    {
      "cell_type": "code",
      "metadata": {
        "originalKey": "12b40ed9-a70e-4f93-af4b-2305fe05b837",
        "showInput": true,
        "customInput": null,
        "collapsed": false,
        "requestMsgId": "0ca0be2f-d646-4098-acdb-ac81d4bebf8f",
        "executionStartTime": 1684546658368,
        "executionStopTime": 1684546663115
      },
      "source": [
        "# Compute pairwise correlation again of columns to select features and check multicollearity \n",
        "\n",
        "# Get variables for which to compute VIF (only keep those VIF <5) and add intercept term\n",
        "X = df1.drop([\"default payment next month\",\"ID\"], axis=1)\n",
        "X = df1.assign(const=1)\n",
        "vif = pd.DataFrame()\n",
        "vif[\"variables\"] = X.columns\n",
        "vif[\"VIF\"] = [variance_inflation_factor(X.values, i) for i in range(X.shape[1])]\n",
        "filtered_vif = vif[vif[\"VIF\"] <= 5] # Filter out variables with VIF > 5 \n",
        "print(filtered_vif)\n",
        "#[Results]: Here I don't see any variables with VIF >5 so we keep all variables here\n",
        "\n",
        "# Get absolute value of correlation coefficient of each feature and the target again\n",
        "corrMatrix = df1.corr()\n",
        "target_corr = abs(corrMatrix['default payment next month'])\n",
        "print(target_corr)\n",
        "print(target_corr[target_corr > 0.05])\n",
        "# [Result]:  Limit Balance, pay status and payment amount, pay trend, delay most and total delays are most correlated with our predicting variable- default payment next month (r>0.05)\n",
        ""
      ],
      "execution_count": 13,
      "outputs": [
        {
          "output_type": "stream",
          "name": "stderr",
          "text": [
            "/mnt/xarfuse/uid-25612/f4b84613-seed-nspid4026533684_cgpid8785546-ns-4026533681/statsmodels/stats/outliers_influence.py:193: RuntimeWarning:\n\ndivide by zero encountered in double_scalars\n\n"
          ]
        },
        {
          "output_type": "stream",
          "name": "stdout",
          "text": [
            "                     variables       VIF\n0                           ID  1.015597\n1                    LIMIT_BAL  1.460215\n2                          SEX  1.022634\n3                    EDUCATION  1.130466\n4                     MARRIAGE  1.232572\n5                          AGE  1.275376\n7                        PAY_2  2.722074\n8                        PAY_3  2.729574\n9                        PAY_4  3.001623\n10                       PAY_5  3.149800\n18                    PAY_AMT1  1.723417\n19                    PAY_AMT2  2.256009\n20                    PAY_AMT3  1.779044\n21                    PAY_AMT4  1.677586\n22                    PAY_AMT5  1.713320\n23                    PAY_AMT6  1.170556\n24  default payment next month  1.209861\n26                  delay_most  3.704240\n27                total_delays  2.097529\n31           avg_payment_ratio  1.025215\nID                            0.013952\nLIMIT_BAL                     0.153520\nSEX                           0.039961\nEDUCATION                     0.028006\nMARRIAGE                      0.024339\nAGE                           0.013890\nPAY_1                         0.349615\nPAY_2                         0.302468\nPAY_3                         0.271348\nPAY_4                         0.255820\nPAY_5                         0.247036\nPAY_6                         0.228762\nBILL_AMT1                     0.019644\nBILL_AMT2                     0.014193\nBILL_AMT3                     0.014076\nBILL_AMT4                     0.010156\nBILL_AMT5                     0.006760\nBILL_AMT6                     0.005372\nPAY_AMT1                      0.072929\nPAY_AMT2                      0.058579\nPAY_AMT3                      0.056250\nPAY_AMT4                      0.056827\nPAY_AMT5                      0.055124\nPAY_AMT6                      0.053183\ndefault payment next month    1.000000\npay_trend                     0.130587\ndelay_most                    0.359073\ntotal_delays                  0.084944\navg_bill                      0.012691\nbill_trend                    0.025649\navg_payment                   0.012691\navg_payment_ratio             0.014176\nName: default payment next month, dtype: float64\nLIMIT_BAL                     0.153520\nPAY_1                         0.349615\nPAY_2                         0.302468\nPAY_3                         0.271348\nPAY_4                         0.255820\nPAY_5                         0.247036\nPAY_6                         0.228762\nPAY_AMT1                      0.072929\nPAY_AMT2                      0.058579\nPAY_AMT3                      0.056250\nPAY_AMT4                      0.056827\nPAY_AMT5                      0.055124\nPAY_AMT6                      0.053183\ndefault payment next month    1.000000\npay_trend                     0.130587\ndelay_most                    0.359073\ntotal_delays                  0.084944\nName: default payment next month, dtype: float64\n"
          ]
        }
      ]
    },
    {
      "cell_type": "markdown",
      "metadata": {
        "originalKey": "8a369560-1079-4642-9afd-0a754307164c",
        "showInput": false,
        "customInput": null
      },
      "source": [
        "\n",
        "<span style=\"color:red;font-size: 20px;\">Builidng & Selecting Models</span>\n",
        "\n",
        "\n",
        "1.split training,test and validation set into 70%:15%:15%\n",
        "2. undersampling to deal with unbalanced labels\n",
        "3. baseline model:logistic regression with no added features\n",
        "   compare different models and model performance: random forest (help address unbalanced data), XGboost\n",
        "4. compare the model performance and select the best model:\n",
        "A. baseline: logistic regression\n",
        " [Result]: Accuracy of 77.67%, but the F1 score is 0. Not predicting default (1) cases correctly. Model may be too simple.\n",
        "B. Random Forest\n",
        " [Result]:accuracy of 81.82% and a better F1 score of 49.44%. It's better than logistic regression on predicting default.\n",
        "C. XGBoost\n",
        "print(\"Performance of XGBoost:\")\n",
        " [Result]: Accuracy of 82.09% and an F1 score of 48.53%. It's slightly better than RF in accuracy and slightly worse than RF on predicting false negatives.\n",
        "\n",
        "[Evaluation criteria]: a false negative (predicting that a customer will not default when they actually will) is worse than a false positive.So recall(TP/TP+FN) is the primary criteria. XG boost performs best here but we still want improvement by tuning or trying other algorisms. \n",
        "5. Fine tuning hyperparameter on validation dataset and select the best model to test."
      ]
    },
    {
      "cell_type": "code",
      "metadata": {
        "originalKey": "2cab5977-5a29-4485-8ea2-be56b3636882",
        "showInput": true,
        "customInput": null,
        "collapsed": false,
        "requestMsgId": "7bb37e64-a225-4010-8ebc-23549c08f528",
        "executionStartTime": 1684546672451,
        "executionStopTime": 1684546672485
      },
      "source": [
        "#split tranining, testing and validation set into 70%:15%:15%\n",
        "X = df1[['LIMIT_BAL',  'PAY_1',\n",
        "       'PAY_2', 'PAY_3', 'PAY_4', 'PAY_5', 'PAY_6',  'PAY_AMT1',\n",
        "       'PAY_AMT2', 'PAY_AMT3', 'PAY_AMT4', 'PAY_AMT5', 'PAY_AMT6',\n",
        "        'pay_trend', 'delay_most', 'total_delays']]\n",
        "y = df1[\"default payment next month\"]\n",
        "\n",
        "X_train, X_other, y_train, y_other = train_test_split(X, y, test_size=0.3, random_state=40)\n",
        "X_val, X_test, y_val, y_test = train_test_split(X_other, y_other, test_size=0.5, random_state=40)\n",
        "\n",
        "#Address unbalanced labels \n",
        "\n",
        "# imblearn.over_sampling.SMOTE is not avaialble in my kernel. Separate majority and minority classes here directly:\n",
        "df_majority = df1[df1[\"default payment next month\"]==0]\n",
        "df_minority = df1[df1[\"default payment next month\"]==1]\n",
        "# Downsample majority class and get the new training set\n",
        "df_majority_downsampled = df_majority.sample(len(df_minority))\n",
        "df_2 = pd.concat([df_majority_downsampled, df_minority])\n",
        "df_2[\"default payment next month\"].value_counts()"
      ],
      "execution_count": 15,
      "outputs": [
        {
          "output_type": "execute_result",
          "data": {
            "text/plain": "1    6636\n0    6636\nName: default payment next month, dtype: int64",
            "application/vnd.dataresource+json": {
              "schema": {
                "fields": [
                  {
                    "name": "index",
                    "type": "integer"
                  },
                  {
                    "name": "default payment next month",
                    "type": "integer"
                  }
                ],
                "primaryKey": [
                  "index"
                ],
                "pandas_version": "0.20.0"
              },
              "data": [
                {
                  "index": 1,
                  "default payment next month": 6636
                },
                {
                  "index": 0,
                  "default payment next month": 6636
                }
              ]
            }
          },
          "metadata": {
            "bento_obj_id": "140178572560560"
          },
          "execution_count": 15
        }
      ]
    },
    {
      "cell_type": "code",
      "metadata": {
        "originalKey": "e8f8624e-5881-4f36-a107-6b053d7d3763",
        "showInput": true,
        "customInput": null,
        "collapsed": false,
        "requestMsgId": "592cc04c-d051-4ef3-8849-11639c4bdd04",
        "executionStartTime": 1684548222812,
        "executionStopTime": 1684548228575
      },
      "source": [
        "#Compare performance of baseline model(logistic regression), RF model and XG boost model on test data set\n",
        "def apply_model(model, X_train, y_train, X_test, y_test):\n",
        "    model.fit(X_train, y_train)\n",
        "    y_pred = model.predict(X_test)\n",
        "    accuracy = accuracy_score(y_test, y_pred)\n",
        "    f1 = f1_score(y_test, y_pred)\n",
        "    cm = confusion_matrix(y_test, y_pred)\n",
        "    print(f\"Accuracy: {accuracy}\")\n",
        "    print(f\"F1 Score: {f1}\")\n",
        "    print(f\"Confusion Matrix: \\n{cm}\")\n",
        "    print(f\"Recall: {recall_score(y_test, y_pred)}\")\n",
        "\n",
        "# Define the models\n",
        "lr_model = LogisticRegression(max_iter=1000)\n",
        "rf_model = RandomForestClassifier()\n",
        "xgb_model = XGBClassifier(use_label_encoder=False, eval_metric='logloss')\n",
        "# Apply Logistic Regression\n",
        "print(\"Performance of Logistic Regression:\")\n",
        "apply_model(lr_model, X_train, y_train, X_test, y_test)\n",
        "# [Result]: Accuracy of 77.67%, but the F1 score is 0.Not predicting default (1) cases correctly. Model may be too simple\n",
        "# Apply Random Forest\n",
        "print(\"Performance of Random Forest:\")\n",
        "apply_model(rf_model, X_train, y_train, X_test, y_test)\n",
        "# [Result]:accuracy of 81.82% and a better F1 score of 49.44%.\n",
        "# Apply XGBoost\n",
        "print(\"Performance of XGBoost:\")\n",
        "apply_model(xgb_model, X_train, y_train, X_test, y_test)\n",
        "#[Result]: Accuracy of 82.09% and an F1 score of 48.53%. It's slightly better than RF currently. \n",
        "\n",
        "# [Evaluation criteria]: a false negative (predicting that a customer will not default when they actually will) is worse than a false positive.\n",
        "# So recall(TP/TP+FN) is the primary criteria. XGboost performs best here but we still want improvement by tuning or trying other algorisms. \n",
        "\n",
        "\n",
        ""
      ],
      "execution_count": 21,
      "outputs": [
        {
          "output_type": "stream",
          "name": "stdout",
          "text": [
            "Performance of Logistic Regression:\nAccuracy: 0.7766666666666666\nF1 Score: 0.0\nConfusion Matrix: \n[[3495    0]\n [1005    0]]\nRecall: 0.0\nPerformance of Random Forest:\n"
          ]
        },
        {
          "output_type": "stream",
          "name": "stdout",
          "text": [
            "Accuracy: 0.8162222222222222\nF1 Score: 0.4782334384858044\nConfusion Matrix: \n[[3294  201]\n [ 626  379]]\nRecall: 0.37711442786069654\nPerformance of XGBoost:\n[19:03:47] WARNING: /home/engshare/third-party2/xgboost/1.1.1/src/build-platform010/shared/src/learner.cc:505: \nParameters: { use_label_encoder } might not be used.\n\n  This may not be accurate due to some parameters are only used in language bindings but\n  passed down to XGBoost core.  Or some parameters are not used but slip through this\n  verification. Please open an issue if you find above cases.\n\n\n"
          ]
        },
        {
          "output_type": "stream",
          "name": "stdout",
          "text": [
            "Accuracy: 0.8208888888888889\nF1 Score: 0.48531289910600256\nConfusion Matrix: \n[[3314  181]\n [ 625  380]]\nRecall: 0.3781094527363184\n"
          ]
        }
      ]
    },
    {
      "cell_type": "code",
      "metadata": {
        "originalKey": "0df86db4-7706-451e-a5c2-6e3fe49a3a36",
        "showInput": true,
        "customInput": null,
        "collapsed": false,
        "requestMsgId": "b1c8f222-adcf-40e5-a282-68c640ca0204",
        "executionStopTime": 1684548762987,
        "executionStartTime": 1684548762983
      },
      "source": [
        "# 5. Use grid search to tune hyperparameters in the validation data set and select the best model. \n",
        "# After selecting the model that performed best on the validation set, and finally test it on the test set.\n",
        "# Grid search for best parameters (Not being run here due to memory and cpu limits)"
      ],
      "execution_count": 23,
      "outputs": []
    },
    {
      "cell_type": "markdown",
      "metadata": {
        "originalKey": "01a0b5d3-3fb3-45b0-915d-e2273cb36f80",
        "showInput": false,
        "customInput": null
      },
      "source": [
        "<span style=\"color:red;font-size: 20px;\">Next Steps</span>\n",
        "\n",
        "If I have more time,I would:\n",
        "\n",
        "1. Check with stakeholders on implication of 0 in payment status and setting up business metrics for measurement\n",
        "2. try different feature selections and new features\n",
        "3. fine tuning the hyperparameters on validation set and selecting the best model to test on the test data set again."
      ]
    },
    {
      "cell_type": "markdown",
      "metadata": {
        "originalKey": "2eece9f2-6685-4f62-afbb-88cd09516ed8",
        "showInput": false,
        "customInput": null
      },
      "source": [
        "<span style=\"color:red;font-size: 20px;\">Appendix</span>\n",
        ""
      ]
    },
    {
      "cell_type": "code",
      "metadata": {
        "originalKey": "de2a98a5-ebf6-4126-b1c6-4adb35cd250e",
        "showInput": true,
        "customInput": null,
        "collapsed": false,
        "requestMsgId": "de2a98a5-ebf6-4126-b1c6-4adb35cd250e",
        "executionStartTime": 1684522134049,
        "executionStopTime": 1684522134080
      },
      "source": [
        "#Appendix 1\n",
        "for i in range(1, 6): \n",
        "    pay_col = 'PAY_' + str(i)\n",
        "    bill_col = 'BILL_AMT' + str(i+1)  # bill amount for the previous month\n",
        "    pay_amt_col = 'PAY_AMT' + str(i)  # payment for the current month\n",
        "\n",
        "    pay_0_rows = df[df[pay_col] == 0]\n",
        "\n",
        "    # Check if BILL_AMT for the previous month is close to zero\n",
        "    bill_amt_near_zero = pay_0_rows[np.abs(pay_0_rows[bill_col]) < 1]  \n",
        "    print(f\"For {len(bill_amt_near_zero)} out of {len(pay_0_rows)} rows with {pay_col} = 0, the {bill_col} is close to zero.\")\n",
        "\n",
        "    # Check if PAY_AMT for the current month is close to BILL_AMT for the previous month\n",
        "    pay_amt_near_bill_amt = pay_0_rows[np.abs(pay_0_rows[pay_amt_col] - pay_0_rows[bill_col]) < 1]\n",
        "    print(f\"For {len(pay_amt_near_bill_amt)} out of {len(pay_0_rows)} rows with {pay_col} = 0, the {pay_amt_col} is close to the {bill_col}.\")"
      ],
      "execution_count": 14,
      "outputs": [
        {
          "output_type": "stream",
          "name": "stdout",
          "text": [
            "For 234 out of 14737 rows with PAY_1 = 0, the BILL_AMT2 is close to zero.\nFor 517 out of 14737 rows with PAY_1 = 0, the PAY_AMT1 is close to the BILL_AMT2.\nFor 461 out of 15730 rows with PAY_2 = 0, the BILL_AMT3 is close to zero.\nFor 753 out of 15730 rows with PAY_2 = 0, the PAY_AMT2 is close to the BILL_AMT3.\nFor 443 out of 15764 rows with PAY_3 = 0, the BILL_AMT4 is close to zero.\nFor 752 out of 15764 rows with PAY_3 = 0, the PAY_AMT3 is close to the BILL_AMT4.\nFor 497 out of 16455 rows with PAY_4 = 0, the BILL_AMT5 is close to zero.\nFor 1013 out of 16455 rows with PAY_4 = 0, the PAY_AMT4 is close to the BILL_AMT5.\nFor 790 out of 16947 rows with PAY_5 = 0, the BILL_AMT6 is close to zero.\nFor 1518 out of 16947 rows with PAY_5 = 0, the PAY_AMT5 is close to the BILL_AMT6.\n"
          ]
        }
      ]
    }
  ]
}
